{
 "cells": [
  {
   "cell_type": "code",
   "execution_count": 5,
   "metadata": {},
   "outputs": [
    {
     "name": "stdout",
     "output_type": "stream",
     "text": [
      "29\n"
     ]
    }
   ],
   "source": [
    "# largest prime factor\n",
    "\n",
    "number = 13195\n",
    "for index in range(number-1,1,-1):\n",
    "    if number%index == 0:\n",
    "          # if index is prime or not\n",
    "          is_index_prime = True\n",
    "          for index_index in range(2, index):\n",
    "               if index%index_index == 0:\n",
    "                    is_index_prime = False\n",
    "                    break\n",
    "          if is_index_prime:\n",
    "               print(index)\n",
    "               break\n",
    "            "
   ]
  },
  {
   "cell_type": "code",
   "execution_count": 8,
   "metadata": {},
   "outputs": [
    {
     "name": "stdout",
     "output_type": "stream",
     "text": [
      "Hello World!\n",
      "outside function\n"
     ]
    }
   ],
   "source": [
    "def greet():\n",
    "    print('Hello World!')\n",
    "\n",
    " # call a funtion\n",
    "greet()\n",
    "print('outside function')"
   ]
  },
  {
   "cell_type": "code",
   "execution_count": 10,
   "metadata": {},
   "outputs": [
    {
     "name": "stdout",
     "output_type": "stream",
     "text": [
      "Hello John\n"
     ]
    }
   ],
   "source": [
    "def greet(name):\n",
    "    print(\"Hello\", name)\n",
    "\n",
    "# Pass Argument\n",
    "greet(\"John\")"
   ]
  },
  {
   "cell_type": "code",
   "execution_count": null,
   "metadata": {},
   "outputs": [
    {
     "name": "stdout",
     "output_type": "stream",
     "text": [
      "sum:  10\n"
     ]
    }
   ],
   "source": [
    "# Function to add two numbers\n",
    "\n",
    "# Function with two arguments\n",
    "\n",
    "def add_numbers(num1, num2):\n",
    "    sum = num1 + num2\n",
    "    print(\"sum: \", sum )\n",
    "\n",
    "# Function call with two values\n",
    "\n",
    "add_numbers(5, 5)"
   ]
  },
  {
   "cell_type": "code",
   "execution_count": 17,
   "metadata": {},
   "outputs": [
    {
     "name": "stdout",
     "output_type": "stream",
     "text": [
      "sub:  3\n"
     ]
    }
   ],
   "source": [
    "def sub_numbers(num1, num2):\n",
    "    sub = num1 - num2\n",
    "    print(\"sub: \", sub)\n",
    "sub_numbers(5,2)"
   ]
  },
  {
   "cell_type": "code",
   "execution_count": 61,
   "metadata": {},
   "outputs": [
    {
     "name": "stdout",
     "output_type": "stream",
     "text": [
      "Square of number:  100\n"
     ]
    }
   ],
   "source": [
    "def square_number(num):\n",
    "    result = num * num\n",
    "    return result\n",
    "square = square_number(10)\n",
    "print(\"Square of number: \" , square)"
   ]
  },
  {
   "cell_type": "code",
   "execution_count": null,
   "metadata": {},
   "outputs": [
    {
     "name": "stdout",
     "output_type": "stream",
     "text": [
      "square root of 4 is  4.0\n",
      "32\n"
     ]
    }
   ],
   "source": [
    "import math\n",
    "square_root = math.sqrt(16)\n",
    "print(\"square root of 4 is \" , square_root)\n",
    "\n",
    "power = pow(2,5)\n",
    "print(power)"
   ]
  },
  {
   "cell_type": "code",
   "execution_count": 69,
   "metadata": {},
   "outputs": [
    {
     "data": {
      "text/plain": [
       "130"
      ]
     },
     "execution_count": 69,
     "metadata": {},
     "output_type": "execute_result"
    }
   ],
   "source": [
    "# Function to sum any number of arguments(*args)\n",
    "\n",
    "def numbers_addition(*numbers):\n",
    "    return sum(numbers)\n",
    "\n",
    "numbers_addition(100,15,15)"
   ]
  },
  {
   "cell_type": "code",
   "execution_count": 76,
   "metadata": {},
   "outputs": [
    {
     "name": "stdout",
     "output_type": "stream",
     "text": [
      "name : John\n",
      "greeting : Hello\n",
      "Desination : developer\n",
      "Location : India\n"
     ]
    }
   ],
   "source": [
    "# Function to print keyword arguments(*kwargs)\n",
    "\n",
    "def greet(**words):\n",
    "    for key, value in words.items():\n",
    "        print(f\"{key} : {value}\")\n",
    "\n",
    "greet(name = \"John\", greeting = \"Hello\", Desination = \"developer\", Location = \"India\")"
   ]
  }
 ],
 "metadata": {
  "kernelspec": {
   "display_name": "Python 3",
   "language": "python",
   "name": "python3"
  },
  "language_info": {
   "codemirror_mode": {
    "name": "ipython",
    "version": 3
   },
   "file_extension": ".py",
   "mimetype": "text/x-python",
   "name": "python",
   "nbconvert_exporter": "python",
   "pygments_lexer": "ipython3",
   "version": "3.13.1"
  }
 },
 "nbformat": 4,
 "nbformat_minor": 2
}
