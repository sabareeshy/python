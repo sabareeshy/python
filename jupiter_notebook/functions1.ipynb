{
 "cells": [
  {
   "cell_type": "code",
   "execution_count": 1,
   "id": "b66ec31a",
   "metadata": {},
   "outputs": [],
   "source": [
    "def greet():\n",
    "    print(\"hello world\")"
   ]
  },
  {
   "cell_type": "code",
   "execution_count": 2,
   "id": "8f00a58c",
   "metadata": {},
   "outputs": [
    {
     "name": "stdout",
     "output_type": "stream",
     "text": [
      "hello world\n"
     ]
    }
   ],
   "source": [
    "greet()"
   ]
  },
  {
   "cell_type": "code",
   "execution_count": 3,
   "id": "5c976b4c",
   "metadata": {},
   "outputs": [],
   "source": [
    "def greet(name):\n",
    "    print(\"Hello\", name)"
   ]
  },
  {
   "cell_type": "code",
   "execution_count": 4,
   "id": "589c1d19",
   "metadata": {},
   "outputs": [
    {
     "name": "stdout",
     "output_type": "stream",
     "text": [
      "Hello Hari\n"
     ]
    }
   ],
   "source": [
    "greet(\"Hari\")"
   ]
  },
  {
   "cell_type": "markdown",
   "id": "c0e6b6f1",
   "metadata": {},
   "source": [
    "Function with two arguments"
   ]
  },
  {
   "cell_type": "code",
   "execution_count": 11,
   "id": "371a98c9",
   "metadata": {},
   "outputs": [],
   "source": [
    "def add_numbers(num1, num2):\n",
    "    sum = num1 + num2\n",
    "    print(\"sum:\", sum)"
   ]
  },
  {
   "cell_type": "code",
   "execution_count": 12,
   "id": "dbe84fb7",
   "metadata": {},
   "outputs": [
    {
     "name": "stdout",
     "output_type": "stream",
     "text": [
      "sum: 50\n"
     ]
    }
   ],
   "source": [
    "add_numbers(10, 40)"
   ]
  },
  {
   "cell_type": "code",
   "execution_count": 20,
   "id": "e9bceea3",
   "metadata": {},
   "outputs": [],
   "source": [
    "def square_number(num):\n",
    "    result = num * num\n",
    "    return result"
   ]
  },
  {
   "cell_type": "code",
   "execution_count": 23,
   "id": "3cb40f9e",
   "metadata": {},
   "outputs": [
    {
     "name": "stdout",
     "output_type": "stream",
     "text": [
      "square: 36\n"
     ]
    }
   ],
   "source": [
    "square = square_number(6)\n",
    "print(\"square:\", square)"
   ]
  },
  {
   "cell_type": "code",
   "execution_count": 34,
   "id": "4f980803",
   "metadata": {},
   "outputs": [
    {
     "name": "stdout",
     "output_type": "stream",
     "text": [
      "square root of 100: 10.0\n",
      "2 to the power of 4 is  16\n"
     ]
    }
   ],
   "source": [
    "import math\n",
    "\n",
    "square_root = math.sqrt(100)\n",
    "\n",
    "print(\"square root of 100:\" , square_root)\n",
    "\n",
    "power = pow(2, 4)\n",
    "print(\"2 to the power of 4 is \", power)"
   ]
  },
  {
   "cell_type": "code",
   "execution_count": 80,
   "id": "11d8d756",
   "metadata": {},
   "outputs": [],
   "source": [
    "def greet(**words):\n",
    "    for key, value in words.items():\n",
    "        print(f\"{key} : {value}\")\n",
    "        \n",
    "      "
   ]
  },
  {
   "cell_type": "code",
   "execution_count": 81,
   "id": "b43f1777",
   "metadata": {},
   "outputs": [
    {
     "name": "stdout",
     "output_type": "stream",
     "text": [
      "name : hari\n",
      "greeting : hello\n"
     ]
    }
   ],
   "source": [
    "greet(name=\"hari\", greeting=\"hello\")"
   ]
  },
  {
   "cell_type": "code",
   "execution_count": 114,
   "id": "4f3e1afa",
   "metadata": {},
   "outputs": [],
   "source": [
    "def adder(*number):\n",
    "    sum = 0\n",
    "    for num in number:\n",
    "        sum = sum + num\n",
    "    print(\"sum of the number: \", sum)"
   ]
  },
  {
   "cell_type": "code",
   "execution_count": 115,
   "id": "d6c0a0d6",
   "metadata": {},
   "outputs": [
    {
     "name": "stdout",
     "output_type": "stream",
     "text": [
      "sum of the number:  122\n"
     ]
    }
   ],
   "source": [
    "adder(10,11,23,45,33)"
   ]
  },
  {
   "cell_type": "code",
   "execution_count": 116,
   "id": "faaf02fb",
   "metadata": {},
   "outputs": [],
   "source": [
    "def intro(**data):\n",
    "    for key, value in data.items():\n",
    "        print(f\"{key}: {value}\")\n",
    "    "
   ]
  },
  {
   "cell_type": "code",
   "execution_count": 117,
   "id": "63ff04ce",
   "metadata": {},
   "outputs": [
    {
     "name": "stdout",
     "output_type": "stream",
     "text": [
      "name: hari\n",
      "designation: systemsengineer\n"
     ]
    }
   ],
   "source": [
    "intro(name=\"hari\", designation=\"systemsengineer\")"
   ]
  },
  {
   "cell_type": "code",
   "execution_count": 118,
   "id": "1612b7e1",
   "metadata": {},
   "outputs": [],
   "source": [
    "def full_name(**name):\n",
    "    for key, value in name.items():\n",
    "        print(f\"key\" \"value\")"
   ]
  },
  {
   "cell_type": "code",
   "execution_count": null,
   "id": "6fa5a2ec",
   "metadata": {},
   "outputs": [],
   "source": [
    "full_name()"
   ]
  },
  {
   "cell_type": "code",
   "execution_count": 130,
   "id": "0e9de1d5",
   "metadata": {},
   "outputs": [],
   "source": [
    "def multiply(*number):\n",
    "    result = 1\n",
    "    for num in number:\n",
    "        result = result * num\n",
    "    return result"
   ]
  },
  {
   "cell_type": "code",
   "execution_count": 132,
   "id": "7ed13b65",
   "metadata": {},
   "outputs": [
    {
     "data": {
      "text/plain": [
       "575000"
      ]
     },
     "execution_count": 132,
     "metadata": {},
     "output_type": "execute_result"
    }
   ],
   "source": [
    "multiply(10, 50,23, 10, 5)"
   ]
  },
  {
   "cell_type": "code",
   "execution_count": 137,
   "id": "e8d5af7f",
   "metadata": {},
   "outputs": [],
   "source": [
    "def multiply_v3(**kwargs):\n",
    "    result = 1\n",
    "    for arg in kwargs.values():\n",
    "        result = result * arg\n",
    "    return result"
   ]
  },
  {
   "cell_type": "code",
   "execution_count": 139,
   "id": "b1ddd996",
   "metadata": {},
   "outputs": [
    {
     "data": {
      "text/plain": [
       "720"
      ]
     },
     "execution_count": 139,
     "metadata": {},
     "output_type": "execute_result"
    }
   ],
   "source": [
    "multiply_v3(a=1, b=2, c=3, d=10, f=12)"
   ]
  },
  {
   "cell_type": "code",
   "execution_count": 149,
   "id": "ec8b6167",
   "metadata": {},
   "outputs": [],
   "source": [
    "def is_prime(number):\n",
    "    result = True\n",
    "    for index in range(2, number):\n",
    "        if number % index == 0:\n",
    "            result = False\n",
    "            break\n",
    "        return result\n",
    "    \n",
    "def is_factor(number, index):\n",
    "    return number % index == 0"
   ]
  },
  {
   "cell_type": "code",
   "execution_count": 150,
   "id": "d5bd91af",
   "metadata": {},
   "outputs": [
    {
     "name": "stdout",
     "output_type": "stream",
     "text": [
      "2639\n"
     ]
    }
   ],
   "source": [
    "# find largest prime factor\n",
    "\n",
    "number = 13195\n",
    "for index in range(number-1,2,-1):\n",
    "    if is_factor(number, index) and is_prime(index):\n",
    "        print(index)\n",
    "        break"
   ]
  },
  {
   "cell_type": "code",
   "execution_count": 164,
   "id": "78bcdf5c",
   "metadata": {},
   "outputs": [],
   "source": [
    "def is_prime(number):\n",
    "    for index in range(2, number):\n",
    "        if number % index == 0:\n",
    "            result = False\n",
    "        else:\n",
    "            result = True\n",
    "        return result"
   ]
  },
  {
   "cell_type": "code",
   "execution_count": 166,
   "id": "6610f94f",
   "metadata": {},
   "outputs": [
    {
     "data": {
      "text/plain": [
       "True"
      ]
     },
     "execution_count": 166,
     "metadata": {},
     "output_type": "execute_result"
    }
   ],
   "source": [
    "is_prime(13)"
   ]
  }
 ],
 "metadata": {
  "kernelspec": {
   "display_name": "Python 3",
   "language": "python",
   "name": "python3"
  },
  "language_info": {
   "codemirror_mode": {
    "name": "ipython",
    "version": 3
   },
   "file_extension": ".py",
   "mimetype": "text/x-python",
   "name": "python",
   "nbconvert_exporter": "python",
   "pygments_lexer": "ipython3",
   "version": "3.13.1"
  }
 },
 "nbformat": 4,
 "nbformat_minor": 5
}
