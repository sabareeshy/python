{
 "cells": [
  {
   "cell_type": "markdown",
   "metadata": {},
   "source": [
    "# IF Statement"
   ]
  },
  {
   "cell_type": "code",
   "execution_count": 3,
   "metadata": {},
   "outputs": [
    {
     "name": "stdout",
     "output_type": "stream",
     "text": [
      "10 is a postive number\n",
      "A statement outside of if statement\n"
     ]
    }
   ],
   "source": [
    "number = int(input(\"Enter the number: \"))\n",
    "if number > 0:\n",
    "   print(f'{number} is a postive number')\n",
    "print(\"A statement outside of if statement\")"
   ]
  },
  {
   "cell_type": "code",
   "execution_count": 5,
   "metadata": {},
   "outputs": [
    {
     "name": "stdout",
     "output_type": "stream",
     "text": [
      "1\n",
      "This is always executed. \n"
     ]
    }
   ],
   "source": [
    "x = 1\n",
    "total = 0\n",
    "if x != 0:\n",
    "    total += x\n",
    "    print(total)\n",
    "print(\"This is always executed. \")"
   ]
  },
  {
   "cell_type": "code",
   "execution_count": 10,
   "metadata": {},
   "outputs": [
    {
     "name": "stdout",
     "output_type": "stream",
     "text": [
      "0 is not positive number. \n",
      "This statement always executes. \n"
     ]
    }
   ],
   "source": [
    "number = int(input(\"Enter the number: \"))\n",
    "if number > 0:\n",
    "    print(f'{number} is positive number. ')\n",
    "else:\n",
    "    print(f'{number} is not positive number. ')\n",
    "print(\"This statement always executes. \")\n"
   ]
  },
  {
   "cell_type": "code",
   "execution_count": 2,
   "metadata": {},
   "outputs": [
    {
     "name": "stdout",
     "output_type": "stream",
     "text": [
      "1\n",
      "2\n",
      "3\n"
     ]
    }
   ],
   "source": [
    "if 'f' in 'foo': print(1); print(2); print(3)\n",
    "\n",
    "if 'z' in 'foo': print('1'); print('3'); print('5')"
   ]
  },
  {
   "cell_type": "code",
   "execution_count": 4,
   "metadata": {},
   "outputs": [
    {
     "name": "stdout",
     "output_type": "stream",
     "text": [
      "heat\n",
      "seat\n",
      "meat\n"
     ]
    }
   ],
   "source": [
    "x = 2\n",
    "if x == 1: print('naming'); print('gaming'); print('doing')\n",
    "elif x == 2: print(\"heat\"); print(\"seat\"); print(\"meat\")\n",
    "else: print(\"we are good\")\n"
   ]
  },
  {
   "cell_type": "code",
   "execution_count": 5,
   "metadata": {},
   "outputs": [
    {
     "name": "stdout",
     "output_type": "stream",
     "text": [
      "Hi\n",
      "sabareesh\n"
     ]
    }
   ],
   "source": [
    "x = 10\n",
    "if x == 9: print('HI'); print('name'); print('is'); print('sabareesh')\n",
    "elif x == 1: print('day'); print('is'); print('sunny')\n",
    "else: print('Hi'); print('sabareesh')"
   ]
  },
  {
   "cell_type": "code",
   "execution_count": 15,
   "metadata": {},
   "outputs": [
    {
     "name": "stdout",
     "output_type": "stream",
     "text": [
      "name\n",
      "hero\n"
     ]
    }
   ],
   "source": [
    "x = 2\n",
    "if x == 1:\n",
    "    print('hero')\n",
    "    print('is')\n",
    "    print('king')\n",
    "elif x == 2:\n",
    "    print('name')\n",
    "    print('hero')\n",
    "else: \n",
    "    print('sabareesh')\n",
    "    print('is good boy')"
   ]
  },
  {
   "cell_type": "code",
   "execution_count": 18,
   "metadata": {},
   "outputs": [
    {
     "name": "stdout",
     "output_type": "stream",
     "text": [
      "Let go to the beach\n",
      "Let go to the library\n"
     ]
    }
   ],
   "source": [
    "raining = False\n",
    "print(\"Let go to the\", 'beach' if not raining else 'library')\n",
    "raining = True\n",
    "print(\"Let go to the\", 'beach' if not raining else 'library')"
   ]
  },
  {
   "cell_type": "code",
   "execution_count": 23,
   "metadata": {},
   "outputs": [
    {
     "data": {
      "text/plain": [
       "'bar'"
      ]
     },
     "execution_count": 23,
     "metadata": {},
     "output_type": "execute_result"
    }
   ],
   "source": [
    "'foo' if True else 1/0\n",
    "1/0 if False else 'bar'"
   ]
  },
  {
   "cell_type": "code",
   "execution_count": 27,
   "metadata": {},
   "outputs": [
    {
     "name": "stdout",
     "output_type": "stream",
     "text": [
      "foo\n"
     ]
    }
   ],
   "source": [
    "if True: \n",
    "  pass\n",
    "print('foo')"
   ]
  }
 ],
 "metadata": {
  "kernelspec": {
   "display_name": "Python 3",
   "language": "python",
   "name": "python3"
  },
  "language_info": {
   "codemirror_mode": {
    "name": "ipython",
    "version": 3
   },
   "file_extension": ".py",
   "mimetype": "text/x-python",
   "name": "python",
   "nbconvert_exporter": "python",
   "pygments_lexer": "ipython3",
   "version": "3.11.11"
  }
 },
 "nbformat": 4,
 "nbformat_minor": 2
}
