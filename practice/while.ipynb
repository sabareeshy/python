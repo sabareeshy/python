{
 "cells": [
  {
   "cell_type": "markdown",
   "metadata": {},
   "source": [
    "# While Loop"
   ]
  },
  {
   "cell_type": "code",
   "execution_count": 3,
   "metadata": {},
   "outputs": [
    {
     "name": "stdout",
     "output_type": "stream",
     "text": [
      "starting the while\n",
      "0\n",
      "1\n",
      "2\n",
      "3\n",
      "4\n",
      "5\n",
      "6\n",
      "7\n",
      "8\n",
      "9\n",
      "while completed\n"
     ]
    }
   ],
   "source": [
    "index = 0\n",
    "print(\"starting the while\")\n",
    "while index < 10:\n",
    "    print(index)\n",
    "    index += 1\n",
    "print(\"while completed\")"
   ]
  },
  {
   "cell_type": "code",
   "execution_count": 15,
   "metadata": {},
   "outputs": [
    {
     "name": "stdout",
     "output_type": "stream",
     "text": [
      "started\n",
      "1\n",
      "completed\n"
     ]
    }
   ],
   "source": [
    "index = 1\n",
    "print(\"started\")\n",
    "while True:\n",
    "    print(index)\n",
    "    index += 1\n",
    "    if index < 10:\n",
    "       break\n",
    "print(\"completed\")"
   ]
  },
  {
   "cell_type": "code",
   "execution_count": 20,
   "metadata": {},
   "outputs": [
    {
     "name": "stdout",
     "output_type": "stream",
     "text": [
      "1\n",
      "3\n",
      "5\n",
      "7\n",
      "9\n",
      "completed\n"
     ]
    }
   ],
   "source": [
    "index = 0\n",
    "while index < 10:\n",
    "    index += 1\n",
    "    if index % 2 == 0:\n",
    "        continue\n",
    "    print(index)\n",
    "print(\"completed\")"
   ]
  },
  {
   "cell_type": "code",
   "execution_count": 37,
   "metadata": {},
   "outputs": [
    {
     "name": "stdout",
     "output_type": "stream",
     "text": [
      "started\n",
      "1\n",
      "3\n",
      "5\n",
      "7\n",
      "9\n",
      "completed\n"
     ]
    }
   ],
   "source": [
    "index = 0\n",
    "print(\"started\")\n",
    "while index < 10:\n",
    "    index += 1\n",
    "    if index % 2 == 0:\n",
    "       continue\n",
    "    print(index)\n",
    "print(\"completed\")\n"
   ]
  },
  {
   "cell_type": "code",
   "execution_count": 40,
   "metadata": {},
   "outputs": [
    {
     "name": "stdout",
     "output_type": "stream",
     "text": [
      "0\n",
      "1\n",
      "2\n",
      "3\n",
      "4\n",
      "5\n",
      "6\n",
      "7\n",
      "8\n",
      "9\n",
      "10\n",
      "completed\n"
     ]
    }
   ],
   "source": [
    "index = 0\n",
    "while True:\n",
    "    print(index)\n",
    "    index += 1\n",
    "    if index > 10:\n",
    "       break\n",
    "print(\"completed\")"
   ]
  },
  {
   "cell_type": "code",
   "execution_count": 44,
   "metadata": {},
   "outputs": [
    {
     "name": "stdout",
     "output_type": "stream",
     "text": [
      "1\n",
      "3\n",
      "5\n",
      "7\n",
      "9\n",
      "completed\n"
     ]
    }
   ],
   "source": [
    "index = 0\n",
    "while index < 10:\n",
    "    index += 1\n",
    "    if index % 2 == 0:\n",
    "        continue\n",
    "    print(index)\n",
    "print(\"completed\")"
   ]
  },
  {
   "cell_type": "code",
   "execution_count": 12,
   "metadata": {},
   "outputs": [
    {
     "name": "stdout",
     "output_type": "stream",
     "text": [
      "233333166668\n"
     ]
    }
   ],
   "source": [
    "index = 0\n",
    "limit = 1000000\n",
    "result = 0\n",
    "while index < limit:\n",
    "   if (index % 3 == 0) or (index % 5 == 0):\n",
    "      result += index\n",
    "   index += 1\n",
    "print(result)"
   ]
  },
  {
   "cell_type": "code",
   "execution_count": 6,
   "metadata": {},
   "outputs": [
    {
     "name": "stdout",
     "output_type": "stream",
     "text": [
      "1\n",
      "2\n",
      "3\n",
      "5\n",
      "8\n",
      "13\n",
      "21\n",
      "34\n",
      "55\n",
      "89\n",
      "44\n"
     ]
    }
   ],
   "source": [
    "first = 1\n",
    "second = 2\n",
    "print(1)\n",
    "print(2)\n",
    "sum = 2\n",
    "limit = 100\n",
    "while first + second < limit:\n",
    "    third = first + second\n",
    "    print(third)\n",
    "    if third % 2 == 0:\n",
    "        sum += third\n",
    "    first = second\n",
    "    second = third\n",
    "print(sum)\n",
    "    \n",
    "        "
   ]
  },
  {
   "cell_type": "code",
   "execution_count": 7,
   "metadata": {},
   "outputs": [
    {
     "name": "stdout",
     "output_type": "stream",
     "text": [
      "1\n",
      "2\n",
      "3\n",
      "4\n",
      "5\n",
      "6\n",
      "7\n",
      "8\n",
      "9\n"
     ]
    }
   ],
   "source": [
    "for index in range(1,10):\n",
    "    print(index)"
   ]
  },
  {
   "cell_type": "code",
   "execution_count": 10,
   "metadata": {},
   "outputs": [
    {
     "name": "stdout",
     "output_type": "stream",
     "text": [
      "55\n"
     ]
    }
   ],
   "source": [
    "sum = 0\n",
    "for index in range(1,11):\n",
    "    sum = sum + index\n",
    "print(sum)"
   ]
  },
  {
   "cell_type": "code",
   "execution_count": 12,
   "metadata": {},
   "outputs": [
    {
     "data": {
      "text/plain": [
       "233168"
      ]
     },
     "execution_count": 12,
     "metadata": {},
     "output_type": "execute_result"
    }
   ],
   "source": [
    "sum([index for index in range(1,1000) if index%3 == 0 or index%5 ==0])"
   ]
  }
 ],
 "metadata": {
  "kernelspec": {
   "display_name": "Python 3",
   "language": "python",
   "name": "python3"
  },
  "language_info": {
   "codemirror_mode": {
    "name": "ipython",
    "version": 3
   },
   "file_extension": ".py",
   "mimetype": "text/x-python",
   "name": "python",
   "nbconvert_exporter": "python",
   "pygments_lexer": "ipython3",
   "version": "3.11.11"
  }
 },
 "nbformat": 4,
 "nbformat_minor": 2
}
